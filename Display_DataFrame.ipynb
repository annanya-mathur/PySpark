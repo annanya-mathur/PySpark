{
  "nbformat": 4,
  "nbformat_minor": 0,
  "metadata": {
    "colab": {
      "provenance": []
    },
    "kernelspec": {
      "name": "python3",
      "display_name": "Python 3"
    },
    "language_info": {
      "name": "python"
    }
  },
  "cells": [
    {
      "cell_type": "code",
      "execution_count": null,
      "metadata": {
        "colab": {
          "base_uri": "https://localhost:8080/"
        },
        "id": "_NtRDZuCum30",
        "outputId": "4dbdc4e5-6afd-4738-a1d5-42413653f5bc"
      },
      "outputs": [
        {
          "output_type": "stream",
          "name": "stdout",
          "text": [
            "Looking in indexes: https://pypi.org/simple, https://us-python.pkg.dev/colab-wheels/public/simple/\n",
            "Collecting pyspark\n",
            "  Downloading pyspark-3.4.0.tar.gz (310.8 MB)\n",
            "\u001b[2K     \u001b[90m━━━━━━━━━━━━━━━━━━━━━━━━━━━━━━━━━━━━━━━\u001b[0m \u001b[32m310.8/310.8 MB\u001b[0m \u001b[31m2.5 MB/s\u001b[0m eta \u001b[36m0:00:00\u001b[0m\n",
            "\u001b[?25h  Preparing metadata (setup.py) ... \u001b[?25l\u001b[?25hdone\n",
            "Requirement already satisfied: py4j==0.10.9.7 in /usr/local/lib/python3.9/dist-packages (from pyspark) (0.10.9.7)\n",
            "Building wheels for collected packages: pyspark\n",
            "  Building wheel for pyspark (setup.py) ... \u001b[?25l\u001b[?25hdone\n",
            "  Created wheel for pyspark: filename=pyspark-3.4.0-py2.py3-none-any.whl size=311317145 sha256=b5071e9c47f4059035a9924b5a8c2c097fb56d66df3cc35281f48694d5833a5d\n",
            "  Stored in directory: /root/.cache/pip/wheels/9f/34/a4/159aa12d0a510d5ff7c8f0220abbea42e5d81ecf588c4fd884\n",
            "Successfully built pyspark\n",
            "Installing collected packages: pyspark\n",
            "Successfully installed pyspark-3.4.0\n"
          ]
        }
      ],
      "source": [
        "!pip install pyspark"
      ]
    },
    {
      "cell_type": "code",
      "source": [
        "import pyspark\n",
        "import pandas as pd"
      ],
      "metadata": {
        "id": "gdW4YVhvuo3t"
      },
      "execution_count": 4,
      "outputs": []
    },
    {
      "cell_type": "code",
      "source": [
        "df=pd.read_csv('/content/drive/MyDrive/police-stations.csv')\n",
        "df"
      ],
      "metadata": {
        "id": "PEfRd6JRuyni",
        "colab": {
          "base_uri": "https://localhost:8080/",
          "height": 1000
        },
        "outputId": "dec07e63-0d03-44ef-de99-fd3340588188"
      },
      "execution_count": 25,
      "outputs": [
        {
          "output_type": "execute_result",
          "data": {
            "text/plain": [
              "        DISTRICT   DISTRICT NAME                   ADDRESS     CITY STATE  \\\n",
              "0   Headquarters    Headquarters       3510 S Michigan Ave  Chicago    IL   \n",
              "1             18      Near North        1160 N Larrabee St  Chicago    IL   \n",
              "2             19       Town Hall          850 W Addison St  Chicago    IL   \n",
              "3             20         Lincoln        5400 N Lincoln Ave  Chicago    IL   \n",
              "4             22     Morgan Park       1900 W Monterey Ave  Chicago    IL   \n",
              "5             24     Rogers Park           6464 N Clark St  Chicago    IL   \n",
              "6             25   Grand Central          5555 W Grand Ave  Chicago    IL   \n",
              "7              1         Central           1718 S State St  Chicago    IL   \n",
              "8              2       Wentworth      5101 S Wentworth Ave  Chicago    IL   \n",
              "9              3  Grand Crossing  7040 S Cottage Grove Ave  Chicago    IL   \n",
              "10             4   South Chicago           2255 E 103rd St  Chicago    IL   \n",
              "11             5         Calumet            727 E 111th St  Chicago    IL   \n",
              "12             6         Gresham         7808 S Halsted St  Chicago    IL   \n",
              "13             7       Englewood            1438 W 63rd St  Chicago    IL   \n",
              "14             8    Chicago Lawn            3420 W 63rd St  Chicago    IL   \n",
              "15             9         Deering         3120 S Halsted St  Chicago    IL   \n",
              "16            10           Ogden          3315 W Ogden Ave  Chicago    IL   \n",
              "17            11        Harrison        3151 W Harrison St  Chicago    IL   \n",
              "18            12       Near West  1412 S Blue Island Ave\\n  Chicago    IL   \n",
              "19            14     Shakespeare     2150 N California Ave  Chicago    IL   \n",
              "20            15          Austin         5701 W Madison St  Chicago    IL   \n",
              "21            16  Jefferson Park      5151 N Milwaukee Ave  Chicago    IL   \n",
              "22            17     Albany Park         4650 N Pulaski Rd  Chicago    IL   \n",
              "\n",
              "      ZIP                                            WEBSITE         PHONE  \\\n",
              "0   60653                      http://home.chicagopolice.org           NaN   \n",
              "1   60610  http://home.chicagopolice.org/community/distri...  312-742-5870   \n",
              "2   60613  http://home.chicagopolice.org/community/distri...  312-744-8320   \n",
              "3   60625  http://home.chicagopolice.org/community/distri...  312-742-8714   \n",
              "4   60643  http://home.chicagopolice.org/community/distri...  312-745-0710   \n",
              "5   60626  http://home.chicagopolice.org/community/distri...  312-744-5907   \n",
              "6   60639  http://home.chicagopolice.org/community/distri...  312-746-8605   \n",
              "7   60616  http://home.chicagopolice.org/community/distri...  312-745-4290   \n",
              "8   60609  http://home.chicagopolice.org/community/distri...  312-747-8366   \n",
              "9   60637  http://home.chicagopolice.org/community/distri...  312-747-8201   \n",
              "10  60617  http://home.chicagopolice.org/community/distri...  312-747-7581   \n",
              "11  60628  http://home.chicagopolice.org/community/distri...  312-747-8210   \n",
              "12  60620  http://home.chicagopolice.org/community/distri...  312-745-3617   \n",
              "13  60636  http://home.chicagopolice.org/community/distri...  312-747-8223   \n",
              "14  60629  http://home.chicagopolice.org/community/distri...  312-747-8730   \n",
              "15  60608  http://home.chicagopolice.org/community/distri...  312-747-8227   \n",
              "16  60623  http://home.chicagopolice.org/community/distri...  312-747-7511   \n",
              "17  60612  http://home.chicagopolice.org/community/distri...  312-746-8386   \n",
              "18  60608  http://home.chicagopolice.org/community/distri...  312-746-8396   \n",
              "19  60647  http://home.chicagopolice.org/community/distri...  312-744-8250   \n",
              "20  60644  http://home.chicagopolice.org/community/distri...  312-743-1440   \n",
              "21  60630  http://home.chicagopolice.org/community/distri...  312-742-4480   \n",
              "22  60630  http://home.chicagopolice.org/community/distri...  312-742-4410   \n",
              "\n",
              "             FAX           TTY  X COORDINATE  Y COORDINATE   LATITUDE  \\\n",
              "0            NaN           NaN   1177731.401   1881697.404  41.830702   \n",
              "1   312-742-5771  312-742-5773   1172080.029   1908086.527  41.903242   \n",
              "2   312-744-4481  312-744-8011   1169730.744   1924160.317  41.947400   \n",
              "3   312-742-8803  312-742-8841   1158399.146   1935788.826  41.979550   \n",
              "4   312-745-0814  312-745-0569   1165825.476   1830851.333  41.691435   \n",
              "5   312-744-6928  312-744-7603   1164193.588   1943199.401  41.999763   \n",
              "6   312-746-4353  312-746-8383   1138770.871   1913442.439  41.918609   \n",
              "7   312-745-3694  312-745-3693   1176569.052   1891771.704  41.858373   \n",
              "8   312-747-5396  312-747-6656   1175864.837   1871153.753  41.801811   \n",
              "9   312-747-5479  312-747-9168   1182739.183   1858317.732  41.766431   \n",
              "10  312-747-5276  312-747-9169   1193131.299   1837090.265  41.707933   \n",
              "11  312-747-5935  312-747-9170   1183305.427   1831462.313  41.692723   \n",
              "12  312-745-3649  312-745-3639   1172283.013   1853022.646  41.752137   \n",
              "13  312-747-6558  312-747-6652   1167659.235   1863005.522  41.779632   \n",
              "14  312-747-8545  312-747-8116   1154575.242   1862672.049  41.778987   \n",
              "15  312-747-5329  312-747-9172   1171440.240   1884085.224  41.837394   \n",
              "16  312-747-7429  312-747-7471   1154500.753   1890985.501  41.856685   \n",
              "17  312-746-4281  312-746-5151   1155244.069   1897148.755  41.873582   \n",
              "18  312-746-4248  312-746-9868   1168487.845   1893384.455  41.862977   \n",
              "19  312-744-2422  312-744-8260   1157304.426   1914481.521  41.921103   \n",
              "20  312-743-1366  312-743-1485   1138148.815   1899399.078  41.880083   \n",
              "21  312-742-4421  312-742-4423   1138480.758   1933660.473  41.974094   \n",
              "22  312-742-5411  312-742-5451   1148843.910   1930801.058  41.966053   \n",
              "\n",
              "    LONGITUDE                         LOCATION  \n",
              "0  -87.623395  (41.8307016873, -87.6233953459)  \n",
              "1  -87.643352  (41.9032416531, -87.6433521393)  \n",
              "2  -87.651512   (41.9474004564, -87.651512018)  \n",
              "3  -87.692845  (41.9795495131, -87.6928445094)  \n",
              "4  -87.668520  (41.6914347795, -87.6685203937)  \n",
              "5  -87.671324  (41.9997634842, -87.6713242922)  \n",
              "6  -87.765574   (41.9186088912, -87.765574479)  \n",
              "7  -87.627356   (41.8583725929, -87.627356171)  \n",
              "8  -87.630560  (41.8018110912, -87.6305601801)  \n",
              "9  -87.605748  (41.7664308925, -87.6057478606)  \n",
              "10 -87.568349  (41.7079332906, -87.5683491228)  \n",
              "11 -87.604506  (41.6927233639, -87.6045058667)  \n",
              "12 -87.644229  (41.7521368378, -87.6442289066)  \n",
              "13 -87.660887  (41.7796315359, -87.6608870173)  \n",
              "14 -87.708864   (41.778987189, -87.7088638153)  \n",
              "15 -87.646408  (41.8373944311, -87.6464077068)  \n",
              "16 -87.708382   (41.8566845327, -87.708381958)  \n",
              "17 -87.705488   (41.8735822883, -87.705488126)  \n",
              "18 -87.656973  (41.8629766244, -87.6569725149)  \n",
              "19 -87.697452  (41.9211033246, -87.6974518223)  \n",
              "20 -87.768200   (41.8800834614, -87.768199889)  \n",
              "21 -87.766149  (41.9740944511, -87.7661488432)  \n",
              "22 -87.728115   (41.9660534171, -87.728114561)  "
            ],
            "text/html": [
              "\n",
              "  <div id=\"df-693c9af5-fab2-47d2-9bc4-aa0779a747a2\">\n",
              "    <div class=\"colab-df-container\">\n",
              "      <div>\n",
              "<style scoped>\n",
              "    .dataframe tbody tr th:only-of-type {\n",
              "        vertical-align: middle;\n",
              "    }\n",
              "\n",
              "    .dataframe tbody tr th {\n",
              "        vertical-align: top;\n",
              "    }\n",
              "\n",
              "    .dataframe thead th {\n",
              "        text-align: right;\n",
              "    }\n",
              "</style>\n",
              "<table border=\"1\" class=\"dataframe\">\n",
              "  <thead>\n",
              "    <tr style=\"text-align: right;\">\n",
              "      <th></th>\n",
              "      <th>DISTRICT</th>\n",
              "      <th>DISTRICT NAME</th>\n",
              "      <th>ADDRESS</th>\n",
              "      <th>CITY</th>\n",
              "      <th>STATE</th>\n",
              "      <th>ZIP</th>\n",
              "      <th>WEBSITE</th>\n",
              "      <th>PHONE</th>\n",
              "      <th>FAX</th>\n",
              "      <th>TTY</th>\n",
              "      <th>X COORDINATE</th>\n",
              "      <th>Y COORDINATE</th>\n",
              "      <th>LATITUDE</th>\n",
              "      <th>LONGITUDE</th>\n",
              "      <th>LOCATION</th>\n",
              "    </tr>\n",
              "  </thead>\n",
              "  <tbody>\n",
              "    <tr>\n",
              "      <th>0</th>\n",
              "      <td>Headquarters</td>\n",
              "      <td>Headquarters</td>\n",
              "      <td>3510 S Michigan Ave</td>\n",
              "      <td>Chicago</td>\n",
              "      <td>IL</td>\n",
              "      <td>60653</td>\n",
              "      <td>http://home.chicagopolice.org</td>\n",
              "      <td>NaN</td>\n",
              "      <td>NaN</td>\n",
              "      <td>NaN</td>\n",
              "      <td>1177731.401</td>\n",
              "      <td>1881697.404</td>\n",
              "      <td>41.830702</td>\n",
              "      <td>-87.623395</td>\n",
              "      <td>(41.8307016873, -87.6233953459)</td>\n",
              "    </tr>\n",
              "    <tr>\n",
              "      <th>1</th>\n",
              "      <td>18</td>\n",
              "      <td>Near North</td>\n",
              "      <td>1160 N Larrabee St</td>\n",
              "      <td>Chicago</td>\n",
              "      <td>IL</td>\n",
              "      <td>60610</td>\n",
              "      <td>http://home.chicagopolice.org/community/distri...</td>\n",
              "      <td>312-742-5870</td>\n",
              "      <td>312-742-5771</td>\n",
              "      <td>312-742-5773</td>\n",
              "      <td>1172080.029</td>\n",
              "      <td>1908086.527</td>\n",
              "      <td>41.903242</td>\n",
              "      <td>-87.643352</td>\n",
              "      <td>(41.9032416531, -87.6433521393)</td>\n",
              "    </tr>\n",
              "    <tr>\n",
              "      <th>2</th>\n",
              "      <td>19</td>\n",
              "      <td>Town Hall</td>\n",
              "      <td>850 W Addison St</td>\n",
              "      <td>Chicago</td>\n",
              "      <td>IL</td>\n",
              "      <td>60613</td>\n",
              "      <td>http://home.chicagopolice.org/community/distri...</td>\n",
              "      <td>312-744-8320</td>\n",
              "      <td>312-744-4481</td>\n",
              "      <td>312-744-8011</td>\n",
              "      <td>1169730.744</td>\n",
              "      <td>1924160.317</td>\n",
              "      <td>41.947400</td>\n",
              "      <td>-87.651512</td>\n",
              "      <td>(41.9474004564, -87.651512018)</td>\n",
              "    </tr>\n",
              "    <tr>\n",
              "      <th>3</th>\n",
              "      <td>20</td>\n",
              "      <td>Lincoln</td>\n",
              "      <td>5400 N Lincoln Ave</td>\n",
              "      <td>Chicago</td>\n",
              "      <td>IL</td>\n",
              "      <td>60625</td>\n",
              "      <td>http://home.chicagopolice.org/community/distri...</td>\n",
              "      <td>312-742-8714</td>\n",
              "      <td>312-742-8803</td>\n",
              "      <td>312-742-8841</td>\n",
              "      <td>1158399.146</td>\n",
              "      <td>1935788.826</td>\n",
              "      <td>41.979550</td>\n",
              "      <td>-87.692845</td>\n",
              "      <td>(41.9795495131, -87.6928445094)</td>\n",
              "    </tr>\n",
              "    <tr>\n",
              "      <th>4</th>\n",
              "      <td>22</td>\n",
              "      <td>Morgan Park</td>\n",
              "      <td>1900 W Monterey Ave</td>\n",
              "      <td>Chicago</td>\n",
              "      <td>IL</td>\n",
              "      <td>60643</td>\n",
              "      <td>http://home.chicagopolice.org/community/distri...</td>\n",
              "      <td>312-745-0710</td>\n",
              "      <td>312-745-0814</td>\n",
              "      <td>312-745-0569</td>\n",
              "      <td>1165825.476</td>\n",
              "      <td>1830851.333</td>\n",
              "      <td>41.691435</td>\n",
              "      <td>-87.668520</td>\n",
              "      <td>(41.6914347795, -87.6685203937)</td>\n",
              "    </tr>\n",
              "    <tr>\n",
              "      <th>5</th>\n",
              "      <td>24</td>\n",
              "      <td>Rogers Park</td>\n",
              "      <td>6464 N Clark St</td>\n",
              "      <td>Chicago</td>\n",
              "      <td>IL</td>\n",
              "      <td>60626</td>\n",
              "      <td>http://home.chicagopolice.org/community/distri...</td>\n",
              "      <td>312-744-5907</td>\n",
              "      <td>312-744-6928</td>\n",
              "      <td>312-744-7603</td>\n",
              "      <td>1164193.588</td>\n",
              "      <td>1943199.401</td>\n",
              "      <td>41.999763</td>\n",
              "      <td>-87.671324</td>\n",
              "      <td>(41.9997634842, -87.6713242922)</td>\n",
              "    </tr>\n",
              "    <tr>\n",
              "      <th>6</th>\n",
              "      <td>25</td>\n",
              "      <td>Grand Central</td>\n",
              "      <td>5555 W Grand Ave</td>\n",
              "      <td>Chicago</td>\n",
              "      <td>IL</td>\n",
              "      <td>60639</td>\n",
              "      <td>http://home.chicagopolice.org/community/distri...</td>\n",
              "      <td>312-746-8605</td>\n",
              "      <td>312-746-4353</td>\n",
              "      <td>312-746-8383</td>\n",
              "      <td>1138770.871</td>\n",
              "      <td>1913442.439</td>\n",
              "      <td>41.918609</td>\n",
              "      <td>-87.765574</td>\n",
              "      <td>(41.9186088912, -87.765574479)</td>\n",
              "    </tr>\n",
              "    <tr>\n",
              "      <th>7</th>\n",
              "      <td>1</td>\n",
              "      <td>Central</td>\n",
              "      <td>1718 S State St</td>\n",
              "      <td>Chicago</td>\n",
              "      <td>IL</td>\n",
              "      <td>60616</td>\n",
              "      <td>http://home.chicagopolice.org/community/distri...</td>\n",
              "      <td>312-745-4290</td>\n",
              "      <td>312-745-3694</td>\n",
              "      <td>312-745-3693</td>\n",
              "      <td>1176569.052</td>\n",
              "      <td>1891771.704</td>\n",
              "      <td>41.858373</td>\n",
              "      <td>-87.627356</td>\n",
              "      <td>(41.8583725929, -87.627356171)</td>\n",
              "    </tr>\n",
              "    <tr>\n",
              "      <th>8</th>\n",
              "      <td>2</td>\n",
              "      <td>Wentworth</td>\n",
              "      <td>5101 S Wentworth Ave</td>\n",
              "      <td>Chicago</td>\n",
              "      <td>IL</td>\n",
              "      <td>60609</td>\n",
              "      <td>http://home.chicagopolice.org/community/distri...</td>\n",
              "      <td>312-747-8366</td>\n",
              "      <td>312-747-5396</td>\n",
              "      <td>312-747-6656</td>\n",
              "      <td>1175864.837</td>\n",
              "      <td>1871153.753</td>\n",
              "      <td>41.801811</td>\n",
              "      <td>-87.630560</td>\n",
              "      <td>(41.8018110912, -87.6305601801)</td>\n",
              "    </tr>\n",
              "    <tr>\n",
              "      <th>9</th>\n",
              "      <td>3</td>\n",
              "      <td>Grand Crossing</td>\n",
              "      <td>7040 S Cottage Grove Ave</td>\n",
              "      <td>Chicago</td>\n",
              "      <td>IL</td>\n",
              "      <td>60637</td>\n",
              "      <td>http://home.chicagopolice.org/community/distri...</td>\n",
              "      <td>312-747-8201</td>\n",
              "      <td>312-747-5479</td>\n",
              "      <td>312-747-9168</td>\n",
              "      <td>1182739.183</td>\n",
              "      <td>1858317.732</td>\n",
              "      <td>41.766431</td>\n",
              "      <td>-87.605748</td>\n",
              "      <td>(41.7664308925, -87.6057478606)</td>\n",
              "    </tr>\n",
              "    <tr>\n",
              "      <th>10</th>\n",
              "      <td>4</td>\n",
              "      <td>South Chicago</td>\n",
              "      <td>2255 E 103rd St</td>\n",
              "      <td>Chicago</td>\n",
              "      <td>IL</td>\n",
              "      <td>60617</td>\n",
              "      <td>http://home.chicagopolice.org/community/distri...</td>\n",
              "      <td>312-747-7581</td>\n",
              "      <td>312-747-5276</td>\n",
              "      <td>312-747-9169</td>\n",
              "      <td>1193131.299</td>\n",
              "      <td>1837090.265</td>\n",
              "      <td>41.707933</td>\n",
              "      <td>-87.568349</td>\n",
              "      <td>(41.7079332906, -87.5683491228)</td>\n",
              "    </tr>\n",
              "    <tr>\n",
              "      <th>11</th>\n",
              "      <td>5</td>\n",
              "      <td>Calumet</td>\n",
              "      <td>727 E 111th St</td>\n",
              "      <td>Chicago</td>\n",
              "      <td>IL</td>\n",
              "      <td>60628</td>\n",
              "      <td>http://home.chicagopolice.org/community/distri...</td>\n",
              "      <td>312-747-8210</td>\n",
              "      <td>312-747-5935</td>\n",
              "      <td>312-747-9170</td>\n",
              "      <td>1183305.427</td>\n",
              "      <td>1831462.313</td>\n",
              "      <td>41.692723</td>\n",
              "      <td>-87.604506</td>\n",
              "      <td>(41.6927233639, -87.6045058667)</td>\n",
              "    </tr>\n",
              "    <tr>\n",
              "      <th>12</th>\n",
              "      <td>6</td>\n",
              "      <td>Gresham</td>\n",
              "      <td>7808 S Halsted St</td>\n",
              "      <td>Chicago</td>\n",
              "      <td>IL</td>\n",
              "      <td>60620</td>\n",
              "      <td>http://home.chicagopolice.org/community/distri...</td>\n",
              "      <td>312-745-3617</td>\n",
              "      <td>312-745-3649</td>\n",
              "      <td>312-745-3639</td>\n",
              "      <td>1172283.013</td>\n",
              "      <td>1853022.646</td>\n",
              "      <td>41.752137</td>\n",
              "      <td>-87.644229</td>\n",
              "      <td>(41.7521368378, -87.6442289066)</td>\n",
              "    </tr>\n",
              "    <tr>\n",
              "      <th>13</th>\n",
              "      <td>7</td>\n",
              "      <td>Englewood</td>\n",
              "      <td>1438 W 63rd St</td>\n",
              "      <td>Chicago</td>\n",
              "      <td>IL</td>\n",
              "      <td>60636</td>\n",
              "      <td>http://home.chicagopolice.org/community/distri...</td>\n",
              "      <td>312-747-8223</td>\n",
              "      <td>312-747-6558</td>\n",
              "      <td>312-747-6652</td>\n",
              "      <td>1167659.235</td>\n",
              "      <td>1863005.522</td>\n",
              "      <td>41.779632</td>\n",
              "      <td>-87.660887</td>\n",
              "      <td>(41.7796315359, -87.6608870173)</td>\n",
              "    </tr>\n",
              "    <tr>\n",
              "      <th>14</th>\n",
              "      <td>8</td>\n",
              "      <td>Chicago Lawn</td>\n",
              "      <td>3420 W 63rd St</td>\n",
              "      <td>Chicago</td>\n",
              "      <td>IL</td>\n",
              "      <td>60629</td>\n",
              "      <td>http://home.chicagopolice.org/community/distri...</td>\n",
              "      <td>312-747-8730</td>\n",
              "      <td>312-747-8545</td>\n",
              "      <td>312-747-8116</td>\n",
              "      <td>1154575.242</td>\n",
              "      <td>1862672.049</td>\n",
              "      <td>41.778987</td>\n",
              "      <td>-87.708864</td>\n",
              "      <td>(41.778987189, -87.7088638153)</td>\n",
              "    </tr>\n",
              "    <tr>\n",
              "      <th>15</th>\n",
              "      <td>9</td>\n",
              "      <td>Deering</td>\n",
              "      <td>3120 S Halsted St</td>\n",
              "      <td>Chicago</td>\n",
              "      <td>IL</td>\n",
              "      <td>60608</td>\n",
              "      <td>http://home.chicagopolice.org/community/distri...</td>\n",
              "      <td>312-747-8227</td>\n",
              "      <td>312-747-5329</td>\n",
              "      <td>312-747-9172</td>\n",
              "      <td>1171440.240</td>\n",
              "      <td>1884085.224</td>\n",
              "      <td>41.837394</td>\n",
              "      <td>-87.646408</td>\n",
              "      <td>(41.8373944311, -87.6464077068)</td>\n",
              "    </tr>\n",
              "    <tr>\n",
              "      <th>16</th>\n",
              "      <td>10</td>\n",
              "      <td>Ogden</td>\n",
              "      <td>3315 W Ogden Ave</td>\n",
              "      <td>Chicago</td>\n",
              "      <td>IL</td>\n",
              "      <td>60623</td>\n",
              "      <td>http://home.chicagopolice.org/community/distri...</td>\n",
              "      <td>312-747-7511</td>\n",
              "      <td>312-747-7429</td>\n",
              "      <td>312-747-7471</td>\n",
              "      <td>1154500.753</td>\n",
              "      <td>1890985.501</td>\n",
              "      <td>41.856685</td>\n",
              "      <td>-87.708382</td>\n",
              "      <td>(41.8566845327, -87.708381958)</td>\n",
              "    </tr>\n",
              "    <tr>\n",
              "      <th>17</th>\n",
              "      <td>11</td>\n",
              "      <td>Harrison</td>\n",
              "      <td>3151 W Harrison St</td>\n",
              "      <td>Chicago</td>\n",
              "      <td>IL</td>\n",
              "      <td>60612</td>\n",
              "      <td>http://home.chicagopolice.org/community/distri...</td>\n",
              "      <td>312-746-8386</td>\n",
              "      <td>312-746-4281</td>\n",
              "      <td>312-746-5151</td>\n",
              "      <td>1155244.069</td>\n",
              "      <td>1897148.755</td>\n",
              "      <td>41.873582</td>\n",
              "      <td>-87.705488</td>\n",
              "      <td>(41.8735822883, -87.705488126)</td>\n",
              "    </tr>\n",
              "    <tr>\n",
              "      <th>18</th>\n",
              "      <td>12</td>\n",
              "      <td>Near West</td>\n",
              "      <td>1412 S Blue Island Ave\\n</td>\n",
              "      <td>Chicago</td>\n",
              "      <td>IL</td>\n",
              "      <td>60608</td>\n",
              "      <td>http://home.chicagopolice.org/community/distri...</td>\n",
              "      <td>312-746-8396</td>\n",
              "      <td>312-746-4248</td>\n",
              "      <td>312-746-9868</td>\n",
              "      <td>1168487.845</td>\n",
              "      <td>1893384.455</td>\n",
              "      <td>41.862977</td>\n",
              "      <td>-87.656973</td>\n",
              "      <td>(41.8629766244, -87.6569725149)</td>\n",
              "    </tr>\n",
              "    <tr>\n",
              "      <th>19</th>\n",
              "      <td>14</td>\n",
              "      <td>Shakespeare</td>\n",
              "      <td>2150 N California Ave</td>\n",
              "      <td>Chicago</td>\n",
              "      <td>IL</td>\n",
              "      <td>60647</td>\n",
              "      <td>http://home.chicagopolice.org/community/distri...</td>\n",
              "      <td>312-744-8250</td>\n",
              "      <td>312-744-2422</td>\n",
              "      <td>312-744-8260</td>\n",
              "      <td>1157304.426</td>\n",
              "      <td>1914481.521</td>\n",
              "      <td>41.921103</td>\n",
              "      <td>-87.697452</td>\n",
              "      <td>(41.9211033246, -87.6974518223)</td>\n",
              "    </tr>\n",
              "    <tr>\n",
              "      <th>20</th>\n",
              "      <td>15</td>\n",
              "      <td>Austin</td>\n",
              "      <td>5701 W Madison St</td>\n",
              "      <td>Chicago</td>\n",
              "      <td>IL</td>\n",
              "      <td>60644</td>\n",
              "      <td>http://home.chicagopolice.org/community/distri...</td>\n",
              "      <td>312-743-1440</td>\n",
              "      <td>312-743-1366</td>\n",
              "      <td>312-743-1485</td>\n",
              "      <td>1138148.815</td>\n",
              "      <td>1899399.078</td>\n",
              "      <td>41.880083</td>\n",
              "      <td>-87.768200</td>\n",
              "      <td>(41.8800834614, -87.768199889)</td>\n",
              "    </tr>\n",
              "    <tr>\n",
              "      <th>21</th>\n",
              "      <td>16</td>\n",
              "      <td>Jefferson Park</td>\n",
              "      <td>5151 N Milwaukee Ave</td>\n",
              "      <td>Chicago</td>\n",
              "      <td>IL</td>\n",
              "      <td>60630</td>\n",
              "      <td>http://home.chicagopolice.org/community/distri...</td>\n",
              "      <td>312-742-4480</td>\n",
              "      <td>312-742-4421</td>\n",
              "      <td>312-742-4423</td>\n",
              "      <td>1138480.758</td>\n",
              "      <td>1933660.473</td>\n",
              "      <td>41.974094</td>\n",
              "      <td>-87.766149</td>\n",
              "      <td>(41.9740944511, -87.7661488432)</td>\n",
              "    </tr>\n",
              "    <tr>\n",
              "      <th>22</th>\n",
              "      <td>17</td>\n",
              "      <td>Albany Park</td>\n",
              "      <td>4650 N Pulaski Rd</td>\n",
              "      <td>Chicago</td>\n",
              "      <td>IL</td>\n",
              "      <td>60630</td>\n",
              "      <td>http://home.chicagopolice.org/community/distri...</td>\n",
              "      <td>312-742-4410</td>\n",
              "      <td>312-742-5411</td>\n",
              "      <td>312-742-5451</td>\n",
              "      <td>1148843.910</td>\n",
              "      <td>1930801.058</td>\n",
              "      <td>41.966053</td>\n",
              "      <td>-87.728115</td>\n",
              "      <td>(41.9660534171, -87.728114561)</td>\n",
              "    </tr>\n",
              "  </tbody>\n",
              "</table>\n",
              "</div>\n",
              "      <button class=\"colab-df-convert\" onclick=\"convertToInteractive('df-693c9af5-fab2-47d2-9bc4-aa0779a747a2')\"\n",
              "              title=\"Convert this dataframe to an interactive table.\"\n",
              "              style=\"display:none;\">\n",
              "        \n",
              "  <svg xmlns=\"http://www.w3.org/2000/svg\" height=\"24px\"viewBox=\"0 0 24 24\"\n",
              "       width=\"24px\">\n",
              "    <path d=\"M0 0h24v24H0V0z\" fill=\"none\"/>\n",
              "    <path d=\"M18.56 5.44l.94 2.06.94-2.06 2.06-.94-2.06-.94-.94-2.06-.94 2.06-2.06.94zm-11 1L8.5 8.5l.94-2.06 2.06-.94-2.06-.94L8.5 2.5l-.94 2.06-2.06.94zm10 10l.94 2.06.94-2.06 2.06-.94-2.06-.94-.94-2.06-.94 2.06-2.06.94z\"/><path d=\"M17.41 7.96l-1.37-1.37c-.4-.4-.92-.59-1.43-.59-.52 0-1.04.2-1.43.59L10.3 9.45l-7.72 7.72c-.78.78-.78 2.05 0 2.83L4 21.41c.39.39.9.59 1.41.59.51 0 1.02-.2 1.41-.59l7.78-7.78 2.81-2.81c.8-.78.8-2.07 0-2.86zM5.41 20L4 18.59l7.72-7.72 1.47 1.35L5.41 20z\"/>\n",
              "  </svg>\n",
              "      </button>\n",
              "      \n",
              "  <style>\n",
              "    .colab-df-container {\n",
              "      display:flex;\n",
              "      flex-wrap:wrap;\n",
              "      gap: 12px;\n",
              "    }\n",
              "\n",
              "    .colab-df-convert {\n",
              "      background-color: #E8F0FE;\n",
              "      border: none;\n",
              "      border-radius: 50%;\n",
              "      cursor: pointer;\n",
              "      display: none;\n",
              "      fill: #1967D2;\n",
              "      height: 32px;\n",
              "      padding: 0 0 0 0;\n",
              "      width: 32px;\n",
              "    }\n",
              "\n",
              "    .colab-df-convert:hover {\n",
              "      background-color: #E2EBFA;\n",
              "      box-shadow: 0px 1px 2px rgba(60, 64, 67, 0.3), 0px 1px 3px 1px rgba(60, 64, 67, 0.15);\n",
              "      fill: #174EA6;\n",
              "    }\n",
              "\n",
              "    [theme=dark] .colab-df-convert {\n",
              "      background-color: #3B4455;\n",
              "      fill: #D2E3FC;\n",
              "    }\n",
              "\n",
              "    [theme=dark] .colab-df-convert:hover {\n",
              "      background-color: #434B5C;\n",
              "      box-shadow: 0px 1px 3px 1px rgba(0, 0, 0, 0.15);\n",
              "      filter: drop-shadow(0px 1px 2px rgba(0, 0, 0, 0.3));\n",
              "      fill: #FFFFFF;\n",
              "    }\n",
              "  </style>\n",
              "\n",
              "      <script>\n",
              "        const buttonEl =\n",
              "          document.querySelector('#df-693c9af5-fab2-47d2-9bc4-aa0779a747a2 button.colab-df-convert');\n",
              "        buttonEl.style.display =\n",
              "          google.colab.kernel.accessAllowed ? 'block' : 'none';\n",
              "\n",
              "        async function convertToInteractive(key) {\n",
              "          const element = document.querySelector('#df-693c9af5-fab2-47d2-9bc4-aa0779a747a2');\n",
              "          const dataTable =\n",
              "            await google.colab.kernel.invokeFunction('convertToInteractive',\n",
              "                                                     [key], {});\n",
              "          if (!dataTable) return;\n",
              "\n",
              "          const docLinkHtml = 'Like what you see? Visit the ' +\n",
              "            '<a target=\"_blank\" href=https://colab.research.google.com/notebooks/data_table.ipynb>data table notebook</a>'\n",
              "            + ' to learn more about interactive tables.';\n",
              "          element.innerHTML = '';\n",
              "          dataTable['output_type'] = 'display_data';\n",
              "          await google.colab.output.renderOutput(dataTable, element);\n",
              "          const docLink = document.createElement('div');\n",
              "          docLink.innerHTML = docLinkHtml;\n",
              "          element.appendChild(docLink);\n",
              "        }\n",
              "      </script>\n",
              "    </div>\n",
              "  </div>\n",
              "  "
            ]
          },
          "metadata": {},
          "execution_count": 25
        }
      ]
    },
    {
      "cell_type": "code",
      "source": [
        "df.info()"
      ],
      "metadata": {
        "colab": {
          "base_uri": "https://localhost:8080/"
        },
        "id": "d9sMGAOlzFLm",
        "outputId": "fe40a676-d373-48cf-c9cc-015e28937ec4"
      },
      "execution_count": 26,
      "outputs": [
        {
          "output_type": "stream",
          "name": "stdout",
          "text": [
            "<class 'pandas.core.frame.DataFrame'>\n",
            "RangeIndex: 23 entries, 0 to 22\n",
            "Data columns (total 15 columns):\n",
            " #   Column         Non-Null Count  Dtype  \n",
            "---  ------         --------------  -----  \n",
            " 0   DISTRICT       23 non-null     object \n",
            " 1   DISTRICT NAME  23 non-null     object \n",
            " 2   ADDRESS        23 non-null     object \n",
            " 3   CITY           23 non-null     object \n",
            " 4   STATE          23 non-null     object \n",
            " 5   ZIP            23 non-null     int64  \n",
            " 6   WEBSITE        23 non-null     object \n",
            " 7   PHONE          22 non-null     object \n",
            " 8   FAX            22 non-null     object \n",
            " 9   TTY            22 non-null     object \n",
            " 10  X COORDINATE   23 non-null     float64\n",
            " 11  Y COORDINATE   23 non-null     float64\n",
            " 12  LATITUDE       23 non-null     float64\n",
            " 13  LONGITUDE      23 non-null     float64\n",
            " 14  LOCATION       23 non-null     object \n",
            "dtypes: float64(4), int64(1), object(10)\n",
            "memory usage: 2.8+ KB\n"
          ]
        }
      ]
    },
    {
      "cell_type": "code",
      "source": [
        "ls"
      ],
      "metadata": {
        "id": "xqHOMr6yu2Li",
        "colab": {
          "base_uri": "https://localhost:8080/"
        },
        "outputId": "4dd0feb9-4252-4d36-b345-5b96d37f9c6d"
      },
      "execution_count": 6,
      "outputs": [
        {
          "output_type": "stream",
          "name": "stdout",
          "text": [
            "\u001b[0m\u001b[01;34mdrive\u001b[0m/  \u001b[01;34msample_data\u001b[0m/\n"
          ]
        }
      ]
    },
    {
      "cell_type": "markdown",
      "source": [
        "# **SPARK SESSION**"
      ],
      "metadata": {
        "id": "yIx-iWpbyvwR"
      }
    },
    {
      "cell_type": "code",
      "source": [
        "from pyspark.sql import SparkSession"
      ],
      "metadata": {
        "id": "MezN1jgZvvNE"
      },
      "execution_count": 7,
      "outputs": []
    },
    {
      "cell_type": "code",
      "source": [
        "spark=SparkSession.builder.appName('Police_Station').getOrCreate()\n",
        "spark"
      ],
      "metadata": {
        "colab": {
          "base_uri": "https://localhost:8080/",
          "height": 219
        },
        "id": "uHdbWBFqv3Qz",
        "outputId": "3a67de16-01cb-41a8-b6a9-1969826ac5fd"
      },
      "execution_count": 8,
      "outputs": [
        {
          "output_type": "execute_result",
          "data": {
            "text/plain": [
              "<pyspark.sql.session.SparkSession at 0x7f8b38fdf4f0>"
            ],
            "text/html": [
              "\n",
              "            <div>\n",
              "                <p><b>SparkSession - in-memory</b></p>\n",
              "                \n",
              "        <div>\n",
              "            <p><b>SparkContext</b></p>\n",
              "\n",
              "            <p><a href=\"http://5f57170a6c2e:4040\">Spark UI</a></p>\n",
              "\n",
              "            <dl>\n",
              "              <dt>Version</dt>\n",
              "                <dd><code>v3.4.0</code></dd>\n",
              "              <dt>Master</dt>\n",
              "                <dd><code>local[*]</code></dd>\n",
              "              <dt>AppName</dt>\n",
              "                <dd><code>Police_Station</code></dd>\n",
              "            </dl>\n",
              "        </div>\n",
              "        \n",
              "            </div>\n",
              "        "
            ]
          },
          "metadata": {},
          "execution_count": 8
        }
      ]
    },
    {
      "cell_type": "code",
      "source": [
        "df_pyspark=spark.read.csv('/content/drive/MyDrive/police-stations.csv')\n",
        "df_pyspark"
      ],
      "metadata": {
        "colab": {
          "base_uri": "https://localhost:8080/"
        },
        "id": "nw7F8komwEF2",
        "outputId": "6a9f4791-0b2f-4de2-c09e-c6047215bdeb"
      },
      "execution_count": 10,
      "outputs": [
        {
          "output_type": "execute_result",
          "data": {
            "text/plain": [
              "DataFrame[_c0: string, _c1: string, _c2: string, _c3: string, _c4: string, _c5: string, _c6: string, _c7: string, _c8: string, _c9: string, _c10: string, _c11: string, _c12: string, _c13: string, _c14: string]"
            ]
          },
          "metadata": {},
          "execution_count": 10
        }
      ]
    },
    {
      "cell_type": "code",
      "source": [
        "type(df_pyspark)"
      ],
      "metadata": {
        "colab": {
          "base_uri": "https://localhost:8080/"
        },
        "id": "F0OoxHJlx7Fv",
        "outputId": "e1e7eda7-12ac-4162-c858-c53fa8a962b3"
      },
      "execution_count": 18,
      "outputs": [
        {
          "output_type": "execute_result",
          "data": {
            "text/plain": [
              "pyspark.sql.dataframe.DataFrame"
            ]
          },
          "metadata": {},
          "execution_count": 18
        }
      ]
    },
    {
      "cell_type": "code",
      "source": [
        "df_pyspark.show()"
      ],
      "metadata": {
        "colab": {
          "base_uri": "https://localhost:8080/"
        },
        "id": "XUi77kMwwpna",
        "outputId": "d28513ad-4ce6-417b-d7ae-348ca07636ac"
      },
      "execution_count": 11,
      "outputs": [
        {
          "output_type": "stream",
          "name": "stdout",
          "text": [
            "+------------+--------------+--------------------+-------+-----+-----+--------------------+------------+------------+------------+------------+------------+-----------+------------+--------------------+\n",
            "|         _c0|           _c1|                 _c2|    _c3|  _c4|  _c5|                 _c6|         _c7|         _c8|         _c9|        _c10|        _c11|       _c12|        _c13|                _c14|\n",
            "+------------+--------------+--------------------+-------+-----+-----+--------------------+------------+------------+------------+------------+------------+-----------+------------+--------------------+\n",
            "|    DISTRICT| DISTRICT NAME|             ADDRESS|   CITY|STATE|  ZIP|             WEBSITE|       PHONE|         FAX|         TTY|X COORDINATE|Y COORDINATE|   LATITUDE|   LONGITUDE|            LOCATION|\n",
            "|Headquarters|  Headquarters| 3510 S Michigan Ave|Chicago|   IL|60653|http://home.chica...|        null|        null|        null| 1177731.401| 1881697.404|41.83070169|-87.62339535|(41.8307016873, -...|\n",
            "|          18|    Near North|  1160 N Larrabee St|Chicago|   IL|60610|http://home.chica...|312-742-5870|312-742-5771|312-742-5773| 1172080.029| 1908086.527|41.90324165|-87.64335214|(41.9032416531, -...|\n",
            "|          19|     Town Hall|    850 W Addison St|Chicago|   IL|60613|http://home.chica...|312-744-8320|312-744-4481|312-744-8011| 1169730.744| 1924160.317|41.94740046|-87.65151202|(41.9474004564, -...|\n",
            "|          20|       Lincoln|  5400 N Lincoln Ave|Chicago|   IL|60625|http://home.chica...|312-742-8714|312-742-8803|312-742-8841| 1158399.146| 1935788.826|41.97954951|-87.69284451|(41.9795495131, -...|\n",
            "|          22|   Morgan Park| 1900 W Monterey Ave|Chicago|   IL|60643|http://home.chica...|312-745-0710|312-745-0814|312-745-0569| 1165825.476| 1830851.333|41.69143478|-87.66852039|(41.6914347795, -...|\n",
            "|          24|   Rogers Park|     6464 N Clark St|Chicago|   IL|60626|http://home.chica...|312-744-5907|312-744-6928|312-744-7603| 1164193.588| 1943199.401|41.99976348|-87.67132429|(41.9997634842, -...|\n",
            "|          25| Grand Central|    5555 W Grand Ave|Chicago|   IL|60639|http://home.chica...|312-746-8605|312-746-4353|312-746-8383| 1138770.871| 1913442.439|41.91860889|-87.76557448|(41.9186088912, -...|\n",
            "|           1|       Central|     1718 S State St|Chicago|   IL|60616|http://home.chica...|312-745-4290|312-745-3694|312-745-3693| 1176569.052| 1891771.704|41.85837259|-87.62735617|(41.8583725929, -...|\n",
            "|           2|     Wentworth|5101 S Wentworth Ave|Chicago|   IL|60609|http://home.chica...|312-747-8366|312-747-5396|312-747-6656| 1175864.837| 1871153.753|41.80181109|-87.63056018|(41.8018110912, -...|\n",
            "|           3|Grand Crossing|7040 S Cottage Gr...|Chicago|   IL|60637|http://home.chica...|312-747-8201|312-747-5479|312-747-9168| 1182739.183| 1858317.732|41.76643089|-87.60574786|(41.7664308925, -...|\n",
            "|           4| South Chicago|     2255 E 103rd St|Chicago|   IL|60617|http://home.chica...|312-747-7581|312-747-5276|312-747-9169| 1193131.299| 1837090.265|41.70793329|-87.56834912|(41.7079332906, -...|\n",
            "|           5|       Calumet|      727 E 111th St|Chicago|   IL|60628|http://home.chica...|312-747-8210|312-747-5935|312-747-9170| 1183305.427| 1831462.313|41.69272336|-87.60450587|(41.6927233639, -...|\n",
            "|           6|       Gresham|   7808 S Halsted St|Chicago|   IL|60620|http://home.chica...|312-745-3617|312-745-3649|312-745-3639| 1172283.013| 1853022.646|41.75213684|-87.64422891|(41.7521368378, -...|\n",
            "|           7|     Englewood|      1438 W 63rd St|Chicago|   IL|60636|http://home.chica...|312-747-8223|312-747-6558|312-747-6652| 1167659.235| 1863005.522|41.77963154|-87.66088702|(41.7796315359, -...|\n",
            "|           8|  Chicago Lawn|      3420 W 63rd St|Chicago|   IL|60629|http://home.chica...|312-747-8730|312-747-8545|312-747-8116| 1154575.242| 1862672.049|41.77898719|-87.70886382|(41.778987189, -8...|\n",
            "|           9|       Deering|   3120 S Halsted St|Chicago|   IL|60608|http://home.chica...|312-747-8227|312-747-5329|312-747-9172|  1171440.24| 1884085.224|41.83739443|-87.64640771|(41.8373944311, -...|\n",
            "|          10|         Ogden|    3315 W Ogden Ave|Chicago|   IL|60623|http://home.chica...|312-747-7511|312-747-7429|312-747-7471| 1154500.753| 1890985.501|41.85668453|-87.70838196|(41.8566845327, -...|\n",
            "|          11|      Harrison|  3151 W Harrison St|Chicago|   IL|60612|http://home.chica...|312-746-8386|312-746-4281|312-746-5151| 1155244.069| 1897148.755|41.87358229|-87.70548813|(41.8735822883, -...|\n",
            "|          12|     Near West|1412 S Blue Islan...|   null| null| null|                null|        null|        null|        null|        null|        null|       null|        null|                null|\n",
            "+------------+--------------+--------------------+-------+-----+-----+--------------------+------------+------------+------------+------------+------------+-----------+------------+--------------------+\n",
            "only showing top 20 rows\n",
            "\n"
          ]
        }
      ]
    },
    {
      "cell_type": "code",
      "source": [
        "spark.read.option('header','true').csv('/content/drive/MyDrive/police-stations.csv')"
      ],
      "metadata": {
        "colab": {
          "base_uri": "https://localhost:8080/"
        },
        "id": "GWoXXTDZwtEl",
        "outputId": "7287a62d-32ad-42a1-f0ac-0a56a228f716"
      },
      "execution_count": 12,
      "outputs": [
        {
          "output_type": "execute_result",
          "data": {
            "text/plain": [
              "DataFrame[DISTRICT: string, DISTRICT NAME: string, ADDRESS: string, CITY: string, STATE: string, ZIP: string, WEBSITE: string, PHONE: string, FAX: string, TTY: string, X COORDINATE: string, Y COORDINATE: string, LATITUDE: string, LONGITUDE: string, LOCATION: string]"
            ]
          },
          "metadata": {},
          "execution_count": 12
        }
      ]
    },
    {
      "cell_type": "code",
      "source": [
        "df_pyspark=spark.read.option('header','true').csv('/content/drive/MyDrive/police-stations.csv')\n",
        "df_pyspark"
      ],
      "metadata": {
        "colab": {
          "base_uri": "https://localhost:8080/"
        },
        "id": "i4KTDOKKwtPA",
        "outputId": "d3a83aa0-83f0-4696-e61c-a2d6668b8006"
      },
      "execution_count": 21,
      "outputs": [
        {
          "output_type": "execute_result",
          "data": {
            "text/plain": [
              "DataFrame[DISTRICT: string, DISTRICT NAME: string, ADDRESS: string, CITY: string, STATE: string, ZIP: string, WEBSITE: string, PHONE: string, FAX: string, TTY: string, X COORDINATE: string, Y COORDINATE: string, LATITUDE: string, LONGITUDE: string, LOCATION: string]"
            ]
          },
          "metadata": {},
          "execution_count": 21
        }
      ]
    },
    {
      "cell_type": "code",
      "source": [
        "type(df_pyspark)"
      ],
      "metadata": {
        "colab": {
          "base_uri": "https://localhost:8080/"
        },
        "id": "1Zm0-3-nxrqJ",
        "outputId": "7addceed-0bd1-4d41-b200-8716bc889993"
      },
      "execution_count": 22,
      "outputs": [
        {
          "output_type": "execute_result",
          "data": {
            "text/plain": [
              "pyspark.sql.dataframe.DataFrame"
            ]
          },
          "metadata": {},
          "execution_count": 22
        }
      ]
    },
    {
      "cell_type": "code",
      "source": [
        "df_pyspark.head(5)"
      ],
      "metadata": {
        "colab": {
          "base_uri": "https://localhost:8080/"
        },
        "id": "aUQ2uBg7yaYH",
        "outputId": "b81a619f-7305-4ff3-d178-f76a4a3b7559"
      },
      "execution_count": 23,
      "outputs": [
        {
          "output_type": "execute_result",
          "data": {
            "text/plain": [
              "[Row(DISTRICT='Headquarters', DISTRICT NAME='Headquarters', ADDRESS='3510 S Michigan Ave', CITY='Chicago', STATE='IL', ZIP='60653', WEBSITE='http://home.chicagopolice.org', PHONE=None, FAX=None, TTY=None, X COORDINATE='1177731.401', Y COORDINATE='1881697.404', LATITUDE='41.83070169', LONGITUDE='-87.62339535', LOCATION='(41.8307016873, -87.6233953459)'),\n",
              " Row(DISTRICT='18', DISTRICT NAME='Near North', ADDRESS='1160 N Larrabee St', CITY='Chicago', STATE='IL', ZIP='60610', WEBSITE='http://home.chicagopolice.org/community/districts/18th-district-near-north/', PHONE='312-742-5870', FAX='312-742-5771', TTY='312-742-5773', X COORDINATE='1172080.029', Y COORDINATE='1908086.527', LATITUDE='41.90324165', LONGITUDE='-87.64335214', LOCATION='(41.9032416531, -87.6433521393)'),\n",
              " Row(DISTRICT='19', DISTRICT NAME='Town Hall', ADDRESS='850 W Addison St', CITY='Chicago', STATE='IL', ZIP='60613', WEBSITE='http://home.chicagopolice.org/community/districts/19th-district-town-hall/', PHONE='312-744-8320', FAX='312-744-4481', TTY='312-744-8011', X COORDINATE='1169730.744', Y COORDINATE='1924160.317', LATITUDE='41.94740046', LONGITUDE='-87.65151202', LOCATION='(41.9474004564, -87.651512018)'),\n",
              " Row(DISTRICT='20', DISTRICT NAME='Lincoln', ADDRESS='5400 N Lincoln Ave', CITY='Chicago', STATE='IL', ZIP='60625', WEBSITE='http://home.chicagopolice.org/community/districts/20th-district-lincoln/', PHONE='312-742-8714', FAX='312-742-8803', TTY='312-742-8841', X COORDINATE='1158399.146', Y COORDINATE='1935788.826', LATITUDE='41.97954951', LONGITUDE='-87.69284451', LOCATION='(41.9795495131, -87.6928445094)'),\n",
              " Row(DISTRICT='22', DISTRICT NAME='Morgan Park', ADDRESS='1900 W Monterey Ave', CITY='Chicago', STATE='IL', ZIP='60643', WEBSITE='http://home.chicagopolice.org/community/districts/22nd-district-morgan-park/', PHONE='312-745-0710', FAX='312-745-0814', TTY='312-745-0569', X COORDINATE='1165825.476', Y COORDINATE='1830851.333', LATITUDE='41.69143478', LONGITUDE='-87.66852039', LOCATION='(41.6914347795, -87.6685203937)')]"
            ]
          },
          "metadata": {},
          "execution_count": 23
        }
      ]
    },
    {
      "cell_type": "code",
      "source": [
        "df_pyspark.printSchema()"
      ],
      "metadata": {
        "colab": {
          "base_uri": "https://localhost:8080/"
        },
        "id": "wcf49F8Wyh8f",
        "outputId": "7a8fa5b9-837d-4e38-db7e-46eff3418975"
      },
      "execution_count": 24,
      "outputs": [
        {
          "output_type": "stream",
          "name": "stdout",
          "text": [
            "root\n",
            " |-- DISTRICT: string (nullable = true)\n",
            " |-- DISTRICT NAME: string (nullable = true)\n",
            " |-- ADDRESS: string (nullable = true)\n",
            " |-- CITY: string (nullable = true)\n",
            " |-- STATE: string (nullable = true)\n",
            " |-- ZIP: string (nullable = true)\n",
            " |-- WEBSITE: string (nullable = true)\n",
            " |-- PHONE: string (nullable = true)\n",
            " |-- FAX: string (nullable = true)\n",
            " |-- TTY: string (nullable = true)\n",
            " |-- X COORDINATE: string (nullable = true)\n",
            " |-- Y COORDINATE: string (nullable = true)\n",
            " |-- LATITUDE: string (nullable = true)\n",
            " |-- LONGITUDE: string (nullable = true)\n",
            " |-- LOCATION: string (nullable = true)\n",
            "\n"
          ]
        }
      ]
    },
    {
      "cell_type": "code",
      "source": [],
      "metadata": {
        "id": "IgB9i_bKyrts"
      },
      "execution_count": null,
      "outputs": []
    }
  ]
}